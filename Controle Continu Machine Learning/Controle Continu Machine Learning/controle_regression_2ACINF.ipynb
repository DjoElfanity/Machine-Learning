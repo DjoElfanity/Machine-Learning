{
 "cells": [
  {
   "cell_type": "markdown",
   "id": "dbf1368b",
   "metadata": {},
   "source": [
    "## Contrôle continue - Régression"
   ]
  },
  {
   "cell_type": "code",
   "execution_count": 30,
   "id": "733996e5",
   "metadata": {},
   "outputs": [],
   "source": [
    "import pandas as pd"
   ]
  },
  {
   "cell_type": "code",
   "execution_count": 31,
   "id": "9dbbdff2",
   "metadata": {},
   "outputs": [
    {
     "data": {
      "text/html": [
       "<div>\n",
       "<style scoped>\n",
       "    .dataframe tbody tr th:only-of-type {\n",
       "        vertical-align: middle;\n",
       "    }\n",
       "\n",
       "    .dataframe tbody tr th {\n",
       "        vertical-align: top;\n",
       "    }\n",
       "\n",
       "    .dataframe thead th {\n",
       "        text-align: right;\n",
       "    }\n",
       "</style>\n",
       "<table border=\"1\" class=\"dataframe\">\n",
       "  <thead>\n",
       "    <tr style=\"text-align: right;\">\n",
       "      <th></th>\n",
       "      <th>TGR</th>\n",
       "      <th>DCT</th>\n",
       "      <th>ATM</th>\n",
       "      <th>FTM</th>\n",
       "      <th>CXV</th>\n",
       "      <th>y</th>\n",
       "    </tr>\n",
       "  </thead>\n",
       "  <tbody>\n",
       "    <tr>\n",
       "      <th>0</th>\n",
       "      <td>0.143789</td>\n",
       "      <td>0.436654</td>\n",
       "      <td>1.375283</td>\n",
       "      <td>4.233510</td>\n",
       "      <td>0.716669</td>\n",
       "      <td>8.816936</td>\n",
       "    </tr>\n",
       "    <tr>\n",
       "      <th>1</th>\n",
       "      <td>1.618606</td>\n",
       "      <td>2.870789</td>\n",
       "      <td>1.353434</td>\n",
       "      <td>2.689847</td>\n",
       "      <td>4.912020</td>\n",
       "      <td>13.214682</td>\n",
       "    </tr>\n",
       "    <tr>\n",
       "      <th>2</th>\n",
       "      <td>2.598226</td>\n",
       "      <td>3.853756</td>\n",
       "      <td>2.402485</td>\n",
       "      <td>3.409069</td>\n",
       "      <td>6.993167</td>\n",
       "      <td>18.672164</td>\n",
       "    </tr>\n",
       "    <tr>\n",
       "      <th>3</th>\n",
       "      <td>0.604583</td>\n",
       "      <td>2.763574</td>\n",
       "      <td>2.064275</td>\n",
       "      <td>4.737224</td>\n",
       "      <td>4.641635</td>\n",
       "      <td>10.673566</td>\n",
       "    </tr>\n",
       "    <tr>\n",
       "      <th>4</th>\n",
       "      <td>0.205770</td>\n",
       "      <td>2.914649</td>\n",
       "      <td>1.919490</td>\n",
       "      <td>2.533273</td>\n",
       "      <td>5.361346</td>\n",
       "      <td>6.885231</td>\n",
       "    </tr>\n",
       "  </tbody>\n",
       "</table>\n",
       "</div>"
      ],
      "text/plain": [
       "        TGR       DCT       ATM       FTM       CXV          y\n",
       "0  0.143789  0.436654  1.375283  4.233510  0.716669   8.816936\n",
       "1  1.618606  2.870789  1.353434  2.689847  4.912020  13.214682\n",
       "2  2.598226  3.853756  2.402485  3.409069  6.993167  18.672164\n",
       "3  0.604583  2.763574  2.064275  4.737224  4.641635  10.673566\n",
       "4  0.205770  2.914649  1.919490  2.533273  5.361346   6.885231"
      ]
     },
     "execution_count": 31,
     "metadata": {},
     "output_type": "execute_result"
    }
   ],
   "source": [
    "df = pd.read_csv('data_reg.csv')\n",
    "df.head()"
   ]
  },
  {
   "cell_type": "markdown",
   "id": "feb93820",
   "metadata": {},
   "source": [
    "## Prétraitement"
   ]
  },
  {
   "cell_type": "code",
   "execution_count": 32,
   "id": "684529c2",
   "metadata": {},
   "outputs": [
    {
     "data": {
      "text/html": [
       "<div>\n",
       "<style scoped>\n",
       "    .dataframe tbody tr th:only-of-type {\n",
       "        vertical-align: middle;\n",
       "    }\n",
       "\n",
       "    .dataframe tbody tr th {\n",
       "        vertical-align: top;\n",
       "    }\n",
       "\n",
       "    .dataframe thead th {\n",
       "        text-align: right;\n",
       "    }\n",
       "</style>\n",
       "<table border=\"1\" class=\"dataframe\">\n",
       "  <thead>\n",
       "    <tr style=\"text-align: right;\">\n",
       "      <th></th>\n",
       "      <th>TGR</th>\n",
       "      <th>DCT</th>\n",
       "      <th>ATM</th>\n",
       "      <th>FTM</th>\n",
       "      <th>CXV</th>\n",
       "      <th>y</th>\n",
       "    </tr>\n",
       "  </thead>\n",
       "  <tbody>\n",
       "    <tr>\n",
       "      <th>count</th>\n",
       "      <td>500.000000</td>\n",
       "      <td>500.000000</td>\n",
       "      <td>500.000000</td>\n",
       "      <td>500.000000</td>\n",
       "      <td>500.000000</td>\n",
       "      <td>500.000000</td>\n",
       "    </tr>\n",
       "    <tr>\n",
       "      <th>mean</th>\n",
       "      <td>1.473662</td>\n",
       "      <td>2.355159</td>\n",
       "      <td>1.259515</td>\n",
       "      <td>3.548410</td>\n",
       "      <td>4.064296</td>\n",
       "      <td>12.779847</td>\n",
       "    </tr>\n",
       "    <tr>\n",
       "      <th>std</th>\n",
       "      <td>0.847520</td>\n",
       "      <td>1.374926</td>\n",
       "      <td>0.714920</td>\n",
       "      <td>2.052158</td>\n",
       "      <td>2.775752</td>\n",
       "      <td>4.435936</td>\n",
       "    </tr>\n",
       "    <tr>\n",
       "      <th>min</th>\n",
       "      <td>0.012082</td>\n",
       "      <td>0.006571</td>\n",
       "      <td>0.009224</td>\n",
       "      <td>0.008694</td>\n",
       "      <td>-0.881692</td>\n",
       "      <td>3.747378</td>\n",
       "    </tr>\n",
       "    <tr>\n",
       "      <th>25%</th>\n",
       "      <td>0.764170</td>\n",
       "      <td>1.136838</td>\n",
       "      <td>0.682993</td>\n",
       "      <td>1.727574</td>\n",
       "      <td>1.762788</td>\n",
       "      <td>9.500694</td>\n",
       "    </tr>\n",
       "    <tr>\n",
       "      <th>50%</th>\n",
       "      <td>1.429266</td>\n",
       "      <td>2.346826</td>\n",
       "      <td>1.254119</td>\n",
       "      <td>3.520789</td>\n",
       "      <td>4.047777</td>\n",
       "      <td>12.186335</td>\n",
       "    </tr>\n",
       "    <tr>\n",
       "      <th>75%</th>\n",
       "      <td>2.187647</td>\n",
       "      <td>3.499260</td>\n",
       "      <td>1.882743</td>\n",
       "      <td>5.427125</td>\n",
       "      <td>6.253003</td>\n",
       "      <td>15.735474</td>\n",
       "    </tr>\n",
       "    <tr>\n",
       "      <th>max</th>\n",
       "      <td>2.998672</td>\n",
       "      <td>4.988552</td>\n",
       "      <td>2.499051</td>\n",
       "      <td>6.998716</td>\n",
       "      <td>9.914326</td>\n",
       "      <td>28.183317</td>\n",
       "    </tr>\n",
       "  </tbody>\n",
       "</table>\n",
       "</div>"
      ],
      "text/plain": [
       "              TGR         DCT         ATM         FTM         CXV           y\n",
       "count  500.000000  500.000000  500.000000  500.000000  500.000000  500.000000\n",
       "mean     1.473662    2.355159    1.259515    3.548410    4.064296   12.779847\n",
       "std      0.847520    1.374926    0.714920    2.052158    2.775752    4.435936\n",
       "min      0.012082    0.006571    0.009224    0.008694   -0.881692    3.747378\n",
       "25%      0.764170    1.136838    0.682993    1.727574    1.762788    9.500694\n",
       "50%      1.429266    2.346826    1.254119    3.520789    4.047777   12.186335\n",
       "75%      2.187647    3.499260    1.882743    5.427125    6.253003   15.735474\n",
       "max      2.998672    4.988552    2.499051    6.998716    9.914326   28.183317"
      ]
     },
     "execution_count": 32,
     "metadata": {},
     "output_type": "execute_result"
    }
   ],
   "source": [
    "df.describe()"
   ]
  },
  {
   "cell_type": "code",
   "execution_count": 33,
   "id": "518f7b9b",
   "metadata": {},
   "outputs": [
    {
     "data": {
      "text/plain": [
       "Index(['TGR', 'DCT', 'ATM', 'FTM', 'CXV', 'y'], dtype='object')"
      ]
     },
     "execution_count": 33,
     "metadata": {},
     "output_type": "execute_result"
    }
   ],
   "source": [
    "df.columns"
   ]
  },
  {
   "cell_type": "code",
   "execution_count": 34,
   "id": "4ac89be9",
   "metadata": {},
   "outputs": [],
   "source": [
    "X = df[['TGR', 'DCT', 'ATM', 'FTM', 'CXV']]\n",
    "y  = df[['y']]"
   ]
  },
  {
   "cell_type": "markdown",
   "id": "eb65b5d5",
   "metadata": {},
   "source": [
    "## Training"
   ]
  },
  {
   "cell_type": "code",
   "execution_count": 35,
   "id": "68a6012f",
   "metadata": {},
   "outputs": [],
   "source": [
    "from sklearn.linear_model import LinearRegression"
   ]
  },
  {
   "cell_type": "code",
   "execution_count": 36,
   "id": "e7a9c811",
   "metadata": {},
   "outputs": [],
   "source": [
    "lr = LinearRegression()"
   ]
  },
  {
   "cell_type": "code",
   "execution_count": 37,
   "id": "6554eb23",
   "metadata": {},
   "outputs": [
    {
     "data": {
      "text/plain": [
       "LinearRegression()"
      ]
     },
     "execution_count": 37,
     "metadata": {},
     "output_type": "execute_result"
    }
   ],
   "source": [
    "lr.fit(X,y)"
   ]
  },
  {
   "cell_type": "code",
   "execution_count": 38,
   "id": "08af46e5",
   "metadata": {},
   "outputs": [
    {
     "data": {
      "text/plain": [
       "(array([2.10018054]),\n",
       " array([[ 3.30727298,  2.04643303, -1.01722678,  0.96776088, -0.28703934]]))"
      ]
     },
     "execution_count": 38,
     "metadata": {},
     "output_type": "execute_result"
    }
   ],
   "source": [
    "lr.intercept_ , lr.coef_"
   ]
  },
  {
   "cell_type": "markdown",
   "id": "264634d7",
   "metadata": {},
   "source": [
    "## Evaluation"
   ]
  },
  {
   "cell_type": "code",
   "execution_count": 39,
   "id": "7db493fc",
   "metadata": {},
   "outputs": [
    {
     "name": "stdout",
     "output_type": "stream",
     "text": [
      "Le score est de :  0.9229155743118376\n"
     ]
    }
   ],
   "source": [
    "evaluation = lr.score(X,y)\n",
    "print(\"Le score est de : \", evaluation)"
   ]
  },
  {
   "cell_type": "markdown",
   "id": "fd29cfbe",
   "metadata": {},
   "source": [
    "## Créer une fonction de prédiction  y = f(entrée)"
   ]
  },
  {
   "cell_type": "code",
   "execution_count": 43,
   "id": "c7732896",
   "metadata": {},
   "outputs": [],
   "source": [
    "\n",
    "def prediction(matrice):\n",
    "    y_prediction  = lr.predict(matrice)\n",
    "    return y_prediction"
   ]
  },
  {
   "cell_type": "code",
   "execution_count": 46,
   "id": "677c67d6",
   "metadata": {},
   "outputs": [
    {
     "name": "stdout",
     "output_type": "stream",
     "text": [
      "La prediction sur la matrice X  [[13.14466709]]\n"
     ]
    }
   ],
   "source": [
    "valeur_a_predire=X.iloc[1:2]\n",
    "print(\"La prediction sur la matrice X \",prediction(valeur_a_predire))"
   ]
  }
 ],
 "metadata": {
  "kernelspec": {
   "display_name": "Python 3 (ipykernel)",
   "language": "python",
   "name": "python3"
  },
  "language_info": {
   "codemirror_mode": {
    "name": "ipython",
    "version": 3
   },
   "file_extension": ".py",
   "mimetype": "text/x-python",
   "name": "python",
   "nbconvert_exporter": "python",
   "pygments_lexer": "ipython3",
   "version": "3.9.13"
  }
 },
 "nbformat": 4,
 "nbformat_minor": 5
}
