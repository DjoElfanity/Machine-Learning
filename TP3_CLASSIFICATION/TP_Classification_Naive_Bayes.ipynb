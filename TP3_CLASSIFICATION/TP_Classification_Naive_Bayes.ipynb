{
 "cells": [
  {
   "cell_type": "code",
   "execution_count": 1,
   "id": "9cc54381",
   "metadata": {},
   "outputs": [],
   "source": [
    "import pandas as pd\n",
    "import numpy as np\n",
    "import seaborn as sns"
   ]
  },
  {
   "cell_type": "code",
   "execution_count": 2,
   "id": "252143c0",
   "metadata": {},
   "outputs": [],
   "source": [
    "df = pd.read_csv('hypothyroid.csv')"
   ]
  },
  {
   "cell_type": "code",
   "execution_count": 3,
   "id": "d7fac874",
   "metadata": {},
   "outputs": [
    {
     "data": {
      "text/html": [
       "<div>\n",
       "<style scoped>\n",
       "    .dataframe tbody tr th:only-of-type {\n",
       "        vertical-align: middle;\n",
       "    }\n",
       "\n",
       "    .dataframe tbody tr th {\n",
       "        vertical-align: top;\n",
       "    }\n",
       "\n",
       "    .dataframe thead th {\n",
       "        text-align: right;\n",
       "    }\n",
       "</style>\n",
       "<table border=\"1\" class=\"dataframe\">\n",
       "  <thead>\n",
       "    <tr style=\"text-align: right;\">\n",
       "      <th></th>\n",
       "      <th>age</th>\n",
       "      <th>sex</th>\n",
       "      <th>on thyroxine</th>\n",
       "      <th>query on thyroxine</th>\n",
       "      <th>on antithyroid medication</th>\n",
       "      <th>sick</th>\n",
       "      <th>pregnant</th>\n",
       "      <th>thyroid surgery</th>\n",
       "      <th>I131 treatment</th>\n",
       "      <th>query hypothyroid</th>\n",
       "      <th>...</th>\n",
       "      <th>TT4 measured</th>\n",
       "      <th>TT4</th>\n",
       "      <th>T4U measured</th>\n",
       "      <th>T4U</th>\n",
       "      <th>FTI measured</th>\n",
       "      <th>FTI</th>\n",
       "      <th>TBG measured</th>\n",
       "      <th>TBG</th>\n",
       "      <th>referral source</th>\n",
       "      <th>binaryClass</th>\n",
       "    </tr>\n",
       "  </thead>\n",
       "  <tbody>\n",
       "    <tr>\n",
       "      <th>0</th>\n",
       "      <td>41</td>\n",
       "      <td>F</td>\n",
       "      <td>f</td>\n",
       "      <td>f</td>\n",
       "      <td>f</td>\n",
       "      <td>f</td>\n",
       "      <td>f</td>\n",
       "      <td>f</td>\n",
       "      <td>f</td>\n",
       "      <td>f</td>\n",
       "      <td>...</td>\n",
       "      <td>t</td>\n",
       "      <td>125</td>\n",
       "      <td>t</td>\n",
       "      <td>1.14</td>\n",
       "      <td>t</td>\n",
       "      <td>109</td>\n",
       "      <td>f</td>\n",
       "      <td>?</td>\n",
       "      <td>SVHC</td>\n",
       "      <td>P</td>\n",
       "    </tr>\n",
       "    <tr>\n",
       "      <th>1</th>\n",
       "      <td>23</td>\n",
       "      <td>F</td>\n",
       "      <td>f</td>\n",
       "      <td>f</td>\n",
       "      <td>f</td>\n",
       "      <td>f</td>\n",
       "      <td>f</td>\n",
       "      <td>f</td>\n",
       "      <td>f</td>\n",
       "      <td>f</td>\n",
       "      <td>...</td>\n",
       "      <td>t</td>\n",
       "      <td>102</td>\n",
       "      <td>f</td>\n",
       "      <td>?</td>\n",
       "      <td>f</td>\n",
       "      <td>?</td>\n",
       "      <td>f</td>\n",
       "      <td>?</td>\n",
       "      <td>other</td>\n",
       "      <td>P</td>\n",
       "    </tr>\n",
       "    <tr>\n",
       "      <th>2</th>\n",
       "      <td>46</td>\n",
       "      <td>M</td>\n",
       "      <td>f</td>\n",
       "      <td>f</td>\n",
       "      <td>f</td>\n",
       "      <td>f</td>\n",
       "      <td>f</td>\n",
       "      <td>f</td>\n",
       "      <td>f</td>\n",
       "      <td>f</td>\n",
       "      <td>...</td>\n",
       "      <td>t</td>\n",
       "      <td>109</td>\n",
       "      <td>t</td>\n",
       "      <td>0.91</td>\n",
       "      <td>t</td>\n",
       "      <td>120</td>\n",
       "      <td>f</td>\n",
       "      <td>?</td>\n",
       "      <td>other</td>\n",
       "      <td>P</td>\n",
       "    </tr>\n",
       "    <tr>\n",
       "      <th>3</th>\n",
       "      <td>70</td>\n",
       "      <td>F</td>\n",
       "      <td>t</td>\n",
       "      <td>f</td>\n",
       "      <td>f</td>\n",
       "      <td>f</td>\n",
       "      <td>f</td>\n",
       "      <td>f</td>\n",
       "      <td>f</td>\n",
       "      <td>f</td>\n",
       "      <td>...</td>\n",
       "      <td>t</td>\n",
       "      <td>175</td>\n",
       "      <td>f</td>\n",
       "      <td>?</td>\n",
       "      <td>f</td>\n",
       "      <td>?</td>\n",
       "      <td>f</td>\n",
       "      <td>?</td>\n",
       "      <td>other</td>\n",
       "      <td>P</td>\n",
       "    </tr>\n",
       "    <tr>\n",
       "      <th>4</th>\n",
       "      <td>70</td>\n",
       "      <td>F</td>\n",
       "      <td>f</td>\n",
       "      <td>f</td>\n",
       "      <td>f</td>\n",
       "      <td>f</td>\n",
       "      <td>f</td>\n",
       "      <td>f</td>\n",
       "      <td>f</td>\n",
       "      <td>f</td>\n",
       "      <td>...</td>\n",
       "      <td>t</td>\n",
       "      <td>61</td>\n",
       "      <td>t</td>\n",
       "      <td>0.87</td>\n",
       "      <td>t</td>\n",
       "      <td>70</td>\n",
       "      <td>f</td>\n",
       "      <td>?</td>\n",
       "      <td>SVI</td>\n",
       "      <td>P</td>\n",
       "    </tr>\n",
       "  </tbody>\n",
       "</table>\n",
       "<p>5 rows × 30 columns</p>\n",
       "</div>"
      ],
      "text/plain": [
       "  age sex on thyroxine query on thyroxine on antithyroid medication sick  \\\n",
       "0  41   F            f                  f                         f    f   \n",
       "1  23   F            f                  f                         f    f   \n",
       "2  46   M            f                  f                         f    f   \n",
       "3  70   F            t                  f                         f    f   \n",
       "4  70   F            f                  f                         f    f   \n",
       "\n",
       "  pregnant thyroid surgery I131 treatment query hypothyroid  ... TT4 measured  \\\n",
       "0        f               f              f                 f  ...            t   \n",
       "1        f               f              f                 f  ...            t   \n",
       "2        f               f              f                 f  ...            t   \n",
       "3        f               f              f                 f  ...            t   \n",
       "4        f               f              f                 f  ...            t   \n",
       "\n",
       "   TT4 T4U measured   T4U FTI measured  FTI TBG measured TBG referral source  \\\n",
       "0  125            t  1.14            t  109            f   ?            SVHC   \n",
       "1  102            f     ?            f    ?            f   ?           other   \n",
       "2  109            t  0.91            t  120            f   ?           other   \n",
       "3  175            f     ?            f    ?            f   ?           other   \n",
       "4   61            t  0.87            t   70            f   ?             SVI   \n",
       "\n",
       "  binaryClass  \n",
       "0           P  \n",
       "1           P  \n",
       "2           P  \n",
       "3           P  \n",
       "4           P  \n",
       "\n",
       "[5 rows x 30 columns]"
      ]
     },
     "execution_count": 3,
     "metadata": {},
     "output_type": "execute_result"
    }
   ],
   "source": [
    "df.head()"
   ]
  },
  {
   "cell_type": "code",
   "execution_count": 4,
   "id": "368316e1",
   "metadata": {},
   "outputs": [
    {
     "name": "stdout",
     "output_type": "stream",
     "text": [
      "<class 'pandas.core.frame.DataFrame'>\n",
      "RangeIndex: 3772 entries, 0 to 3771\n",
      "Data columns (total 30 columns):\n",
      " #   Column                     Non-Null Count  Dtype \n",
      "---  ------                     --------------  ----- \n",
      " 0   age                        3772 non-null   object\n",
      " 1   sex                        3772 non-null   object\n",
      " 2   on thyroxine               3772 non-null   object\n",
      " 3   query on thyroxine         3772 non-null   object\n",
      " 4   on antithyroid medication  3772 non-null   object\n",
      " 5   sick                       3772 non-null   object\n",
      " 6   pregnant                   3772 non-null   object\n",
      " 7   thyroid surgery            3772 non-null   object\n",
      " 8   I131 treatment             3772 non-null   object\n",
      " 9   query hypothyroid          3772 non-null   object\n",
      " 10  query hyperthyroid         3772 non-null   object\n",
      " 11  lithium                    3772 non-null   object\n",
      " 12  goitre                     3772 non-null   object\n",
      " 13  tumor                      3772 non-null   object\n",
      " 14  hypopituitary              3772 non-null   object\n",
      " 15  psych                      3772 non-null   object\n",
      " 16  TSH measured               3772 non-null   object\n",
      " 17  TSH                        3772 non-null   object\n",
      " 18  T3 measured                3772 non-null   object\n",
      " 19  T3                         3772 non-null   object\n",
      " 20  TT4 measured               3772 non-null   object\n",
      " 21  TT4                        3772 non-null   object\n",
      " 22  T4U measured               3772 non-null   object\n",
      " 23  T4U                        3772 non-null   object\n",
      " 24  FTI measured               3772 non-null   object\n",
      " 25  FTI                        3772 non-null   object\n",
      " 26  TBG measured               3772 non-null   object\n",
      " 27  TBG                        3772 non-null   object\n",
      " 28  referral source            3772 non-null   object\n",
      " 29  binaryClass                3772 non-null   object\n",
      "dtypes: object(30)\n",
      "memory usage: 884.2+ KB\n"
     ]
    }
   ],
   "source": [
    "df.info()"
   ]
  },
  {
   "cell_type": "markdown",
   "id": "e79e09a1",
   "metadata": {},
   "source": [
    "## Nettoyage des données"
   ]
  },
  {
   "cell_type": "markdown",
   "id": "d74e11bd",
   "metadata": {},
   "source": [
    "## Évaluation des données manquantes"
   ]
  },
  {
   "cell_type": "markdown",
   "id": "f21370e9",
   "metadata": {},
   "source": [
    "###  <font color=#063970>1- Vérifier si Dataset contient des données NaN  (df.isnull().values.any())</font>"
   ]
  },
  {
   "cell_type": "code",
   "execution_count": 5,
   "id": "c6bf550f",
   "metadata": {},
   "outputs": [
    {
     "data": {
      "text/plain": [
       "False"
      ]
     },
     "execution_count": 5,
     "metadata": {},
     "output_type": "execute_result"
    }
   ],
   "source": [
    "df.isnull().values.any()"
   ]
  },
  {
   "cell_type": "markdown",
   "id": "9b64389a",
   "metadata": {},
   "source": [
    "###  <font color=#063970>2- Remplacer un caractère par NaN  </font>"
   ]
  },
  {
   "cell_type": "code",
   "execution_count": 6,
   "id": "4bf69a13",
   "metadata": {},
   "outputs": [],
   "source": [
    "df.replace('?', np.nan, inplace= True)"
   ]
  },
  {
   "cell_type": "markdown",
   "id": "3f51a8b2",
   "metadata": {},
   "source": [
    "###  <font color=#063970>3- Compter le nombre de NaN par colonnes  </font>"
   ]
  },
  {
   "cell_type": "code",
   "execution_count": 7,
   "id": "fd8dafce",
   "metadata": {},
   "outputs": [
    {
     "data": {
      "text/plain": [
       "6064"
      ]
     },
     "execution_count": 7,
     "metadata": {},
     "output_type": "execute_result"
    }
   ],
   "source": [
    "df.isnull().values.sum() #total de NaN dans Dataset"
   ]
  },
  {
   "cell_type": "code",
   "execution_count": 8,
   "id": "abe901be",
   "metadata": {},
   "outputs": [
    {
     "data": {
      "text/plain": [
       "age                             1\n",
       "sex                           150\n",
       "on thyroxine                    0\n",
       "query on thyroxine              0\n",
       "on antithyroid medication       0\n",
       "sick                            0\n",
       "pregnant                        0\n",
       "thyroid surgery                 0\n",
       "I131 treatment                  0\n",
       "query hypothyroid               0\n",
       "query hyperthyroid              0\n",
       "lithium                         0\n",
       "goitre                          0\n",
       "tumor                           0\n",
       "hypopituitary                   0\n",
       "psych                           0\n",
       "TSH measured                    0\n",
       "TSH                           369\n",
       "T3 measured                     0\n",
       "T3                            769\n",
       "TT4 measured                    0\n",
       "TT4                           231\n",
       "T4U measured                    0\n",
       "T4U                           387\n",
       "FTI measured                    0\n",
       "FTI                           385\n",
       "TBG measured                    0\n",
       "TBG                          3772\n",
       "referral source                 0\n",
       "binaryClass                     0\n",
       "dtype: int64"
      ]
     },
     "execution_count": 8,
     "metadata": {},
     "output_type": "execute_result"
    }
   ],
   "source": [
    "df.isnull().sum() #par colonnes "
   ]
  },
  {
   "cell_type": "markdown",
   "id": "200e210a",
   "metadata": {},
   "source": [
    "###  <font color=#063970>4- Supprimer les lignes NaN selon sex  </font>"
   ]
  },
  {
   "cell_type": "code",
   "execution_count": 9,
   "id": "961274e4",
   "metadata": {},
   "outputs": [
    {
     "data": {
      "text/plain": [
       "age                             1\n",
       "sex                             0\n",
       "on thyroxine                    0\n",
       "query on thyroxine              0\n",
       "on antithyroid medication       0\n",
       "sick                            0\n",
       "pregnant                        0\n",
       "thyroid surgery                 0\n",
       "I131 treatment                  0\n",
       "query hypothyroid               0\n",
       "query hyperthyroid              0\n",
       "lithium                         0\n",
       "goitre                          0\n",
       "tumor                           0\n",
       "hypopituitary                   0\n",
       "psych                           0\n",
       "TSH measured                    0\n",
       "TSH                           352\n",
       "T3 measured                     0\n",
       "T3                            745\n",
       "TT4 measured                    0\n",
       "TT4                           217\n",
       "T4U measured                    0\n",
       "T4U                           367\n",
       "FTI measured                    0\n",
       "FTI                           365\n",
       "TBG measured                    0\n",
       "TBG                          3622\n",
       "referral source                 0\n",
       "binaryClass                     0\n",
       "dtype: int64"
      ]
     },
     "execution_count": 9,
     "metadata": {},
     "output_type": "execute_result"
    }
   ],
   "source": [
    "df = df.dropna(subset=['sex'])\n",
    "df.isnull().sum()"
   ]
  },
  {
   "cell_type": "markdown",
   "id": "6e783f55",
   "metadata": {},
   "source": [
    "###  <font color=#063970>5- Type de chaque colonne </font>"
   ]
  },
  {
   "cell_type": "code",
   "execution_count": 10,
   "id": "f1913a85",
   "metadata": {},
   "outputs": [
    {
     "data": {
      "text/plain": [
       "age                           object\n",
       "sex                           object\n",
       "on thyroxine                  object\n",
       "query on thyroxine            object\n",
       "on antithyroid medication     object\n",
       "sick                          object\n",
       "pregnant                      object\n",
       "thyroid surgery               object\n",
       "I131 treatment                object\n",
       "query hypothyroid             object\n",
       "query hyperthyroid            object\n",
       "lithium                       object\n",
       "goitre                        object\n",
       "tumor                         object\n",
       "hypopituitary                 object\n",
       "psych                         object\n",
       "TSH measured                  object\n",
       "TSH                           object\n",
       "T3 measured                   object\n",
       "T3                            object\n",
       "TT4 measured                  object\n",
       "TT4                           object\n",
       "T4U measured                  object\n",
       "T4U                           object\n",
       "FTI measured                  object\n",
       "FTI                           object\n",
       "TBG measured                  object\n",
       "TBG                          float64\n",
       "referral source               object\n",
       "binaryClass                   object\n",
       "dtype: object"
      ]
     },
     "execution_count": 10,
     "metadata": {},
     "output_type": "execute_result"
    }
   ],
   "source": [
    "df.dtypes"
   ]
  },
  {
   "cell_type": "markdown",
   "id": "77b94b7a",
   "metadata": {},
   "source": [
    "###  <font color=#063970>6- Trouver les colonnes qui contient des nombres </font>"
   ]
  },
  {
   "cell_type": "markdown",
   "id": "b8484995",
   "metadata": {},
   "source": [
    "#### Expressions régulières"
   ]
  },
  {
   "cell_type": "code",
   "execution_count": 11,
   "id": "f6c6451d",
   "metadata": {},
   "outputs": [],
   "source": [
    "import re"
   ]
  },
  {
   "cell_type": "markdown",
   "id": "17ecee98",
   "metadata": {},
   "source": [
    "#### Pattern d'un nombre réel"
   ]
  },
  {
   "cell_type": "code",
   "execution_count": 12,
   "id": "38ef1782",
   "metadata": {},
   "outputs": [],
   "source": [
    "realnum=re.compile(\"^ *?[-+]?[0-9]*\\.?[0-9]+(e[-+]?[0-9]+)?$\")"
   ]
  },
  {
   "cell_type": "code",
   "execution_count": 13,
   "id": "055784ef",
   "metadata": {},
   "outputs": [
    {
     "name": "stdout",
     "output_type": "stream",
     "text": [
      "is number\n"
     ]
    }
   ],
   "source": [
    "if(re.match(realnum, '-3')):\n",
    "    print('is number')\n",
    "else:\n",
    "    print('in not a number')\n",
    "        "
   ]
  },
  {
   "cell_type": "code",
   "execution_count": 14,
   "id": "2db851f6",
   "metadata": {},
   "outputs": [],
   "source": [
    "def isnumber(ch):\n",
    "    if(re.match(realnum, str(ch))):\n",
    "        return True\n",
    "    else:\n",
    "        return False\n",
    "    \n",
    "    "
   ]
  },
  {
   "cell_type": "code",
   "execution_count": 15,
   "id": "7aa04a69",
   "metadata": {},
   "outputs": [
    {
     "data": {
      "text/plain": [
       "True"
      ]
     },
     "execution_count": 15,
     "metadata": {},
     "output_type": "execute_result"
    }
   ],
   "source": [
    "isnumber(\" 22\")"
   ]
  },
  {
   "cell_type": "code",
   "execution_count": 16,
   "id": "25131029",
   "metadata": {},
   "outputs": [
    {
     "data": {
      "text/plain": [
       "True"
      ]
     },
     "execution_count": 16,
     "metadata": {},
     "output_type": "execute_result"
    }
   ],
   "source": [
    "isnumber(df['T4U'][56])"
   ]
  },
  {
   "cell_type": "code",
   "execution_count": 17,
   "id": "8580b1e1",
   "metadata": {},
   "outputs": [
    {
     "data": {
      "text/plain": [
       "array([891, 152, 918])"
      ]
     },
     "execution_count": 17,
     "metadata": {},
     "output_type": "execute_result"
    }
   ],
   "source": [
    "rng = np.random.randint(1000, size=3)\n",
    "rng"
   ]
  },
  {
   "cell_type": "markdown",
   "id": "8fd84fd3",
   "metadata": {},
   "source": [
    "###  <font color=#063970>7- Convertir les colonnes contenant des nombre en type float </font>"
   ]
  },
  {
   "cell_type": "code",
   "execution_count": 18,
   "id": "40a9a88c",
   "metadata": {},
   "outputs": [
    {
     "name": "stdout",
     "output_type": "stream",
     "text": [
      "<class 'pandas.core.frame.DataFrame'>\n",
      "Int64Index: 3622 entries, 0 to 3771\n",
      "Data columns (total 30 columns):\n",
      " #   Column                     Non-Null Count  Dtype  \n",
      "---  ------                     --------------  -----  \n",
      " 0   age                        3621 non-null   float32\n",
      " 1   sex                        3622 non-null   object \n",
      " 2   on thyroxine               3622 non-null   object \n",
      " 3   query on thyroxine         3622 non-null   object \n",
      " 4   on antithyroid medication  3622 non-null   object \n",
      " 5   sick                       3622 non-null   object \n",
      " 6   pregnant                   3622 non-null   object \n",
      " 7   thyroid surgery            3622 non-null   object \n",
      " 8   I131 treatment             3622 non-null   object \n",
      " 9   query hypothyroid          3622 non-null   object \n",
      " 10  query hyperthyroid         3622 non-null   object \n",
      " 11  lithium                    3622 non-null   object \n",
      " 12  goitre                     3622 non-null   object \n",
      " 13  tumor                      3622 non-null   object \n",
      " 14  hypopituitary              3622 non-null   object \n",
      " 15  psych                      3622 non-null   object \n",
      " 16  TSH measured               3622 non-null   object \n",
      " 17  TSH                        3270 non-null   float32\n",
      " 18  T3 measured                3622 non-null   object \n",
      " 19  T3                         2877 non-null   float32\n",
      " 20  TT4 measured               3622 non-null   object \n",
      " 21  TT4                        3405 non-null   float32\n",
      " 22  T4U measured               3622 non-null   object \n",
      " 23  T4U                        3255 non-null   float32\n",
      " 24  FTI measured               3622 non-null   object \n",
      " 25  FTI                        3257 non-null   float32\n",
      " 26  TBG measured               3622 non-null   object \n",
      " 27  TBG                        0 non-null      float64\n",
      " 28  referral source            3622 non-null   object \n",
      " 29  binaryClass                3622 non-null   object \n",
      "dtypes: float32(6), float64(1), object(23)\n",
      "memory usage: 921.4+ KB\n"
     ]
    }
   ],
   "source": [
    "qualitative = list() # list pour les colonnes qualitatives\n",
    "for col in df.columns:\n",
    "    ind=0\n",
    "    for i in rng:\n",
    "        if(not(pd.isnull(df[col][i])) and isnumber(df[col][i]) ):\n",
    "            ind = ind +1\n",
    "    if(ind!=0):\n",
    "        df[col] = df[col].astype('float32')\n",
    "    else:\n",
    "        qualitative.append(col)\n",
    "####################################################\n",
    "df.info()     \n"
   ]
  },
  {
   "cell_type": "code",
   "execution_count": 19,
   "id": "44943fb4",
   "metadata": {},
   "outputs": [
    {
     "data": {
      "text/plain": [
       "24"
      ]
     },
     "execution_count": 19,
     "metadata": {},
     "output_type": "execute_result"
    }
   ],
   "source": [
    "len(qualitative)"
   ]
  },
  {
   "cell_type": "markdown",
   "id": "ac3bac2b",
   "metadata": {},
   "source": [
    "###  <font color=#063970>8- Encodage des colonnes qualitatives </font>"
   ]
  },
  {
   "cell_type": "code",
   "execution_count": 20,
   "id": "3a0ff63c",
   "metadata": {},
   "outputs": [],
   "source": [
    "from sklearn.preprocessing import LabelEncoder\n",
    "enc=LabelEncoder()"
   ]
  },
  {
   "cell_type": "code",
   "execution_count": 21,
   "id": "e27dedcb",
   "metadata": {},
   "outputs": [
    {
     "name": "stdout",
     "output_type": "stream",
     "text": [
      "<class 'pandas.core.frame.DataFrame'>\n",
      "Int64Index: 3622 entries, 0 to 3771\n",
      "Data columns (total 30 columns):\n",
      " #   Column                     Non-Null Count  Dtype  \n",
      "---  ------                     --------------  -----  \n",
      " 0   age                        3621 non-null   float32\n",
      " 1   sex                        3622 non-null   int32  \n",
      " 2   on thyroxine               3622 non-null   int32  \n",
      " 3   query on thyroxine         3622 non-null   int32  \n",
      " 4   on antithyroid medication  3622 non-null   int32  \n",
      " 5   sick                       3622 non-null   int32  \n",
      " 6   pregnant                   3622 non-null   int32  \n",
      " 7   thyroid surgery            3622 non-null   int32  \n",
      " 8   I131 treatment             3622 non-null   int32  \n",
      " 9   query hypothyroid          3622 non-null   int32  \n",
      " 10  query hyperthyroid         3622 non-null   int32  \n",
      " 11  lithium                    3622 non-null   int32  \n",
      " 12  goitre                     3622 non-null   int32  \n",
      " 13  tumor                      3622 non-null   int32  \n",
      " 14  hypopituitary              3622 non-null   int32  \n",
      " 15  psych                      3622 non-null   int32  \n",
      " 16  TSH measured               3622 non-null   int32  \n",
      " 17  TSH                        3270 non-null   float32\n",
      " 18  T3 measured                3622 non-null   int32  \n",
      " 19  T3                         2877 non-null   float32\n",
      " 20  TT4 measured               3622 non-null   int32  \n",
      " 21  TT4                        3405 non-null   float32\n",
      " 22  T4U measured               3622 non-null   int32  \n",
      " 23  T4U                        3255 non-null   float32\n",
      " 24  FTI measured               3622 non-null   int32  \n",
      " 25  FTI                        3257 non-null   float32\n",
      " 26  TBG measured               3622 non-null   int32  \n",
      " 27  TBG                        3622 non-null   int64  \n",
      " 28  referral source            3622 non-null   int32  \n",
      " 29  binaryClass                3622 non-null   int32  \n",
      "dtypes: float32(6), int32(23), int64(1)\n",
      "memory usage: 595.9 KB\n"
     ]
    }
   ],
   "source": [
    "for col in qualitative:\n",
    "    df[col]=enc.fit_transform(df[col])\n",
    "df.info()"
   ]
  },
  {
   "cell_type": "markdown",
   "id": "6f067a17",
   "metadata": {},
   "source": [
    "###  <font color=#063970>9- Remplacement des valeurs NaN </font>"
   ]
  },
  {
   "cell_type": "code",
   "execution_count": 22,
   "id": "3d9e9161",
   "metadata": {},
   "outputs": [
    {
     "data": {
      "text/plain": [
       "age                            1\n",
       "sex                            0\n",
       "on thyroxine                   0\n",
       "query on thyroxine             0\n",
       "on antithyroid medication      0\n",
       "sick                           0\n",
       "pregnant                       0\n",
       "thyroid surgery                0\n",
       "I131 treatment                 0\n",
       "query hypothyroid              0\n",
       "query hyperthyroid             0\n",
       "lithium                        0\n",
       "goitre                         0\n",
       "tumor                          0\n",
       "hypopituitary                  0\n",
       "psych                          0\n",
       "TSH measured                   0\n",
       "TSH                          352\n",
       "T3 measured                    0\n",
       "T3                           745\n",
       "TT4 measured                   0\n",
       "TT4                          217\n",
       "T4U measured                   0\n",
       "T4U                          367\n",
       "FTI measured                   0\n",
       "FTI                          365\n",
       "TBG measured                   0\n",
       "TBG                            0\n",
       "referral source                0\n",
       "binaryClass                    0\n",
       "dtype: int64"
      ]
     },
     "execution_count": 22,
     "metadata": {},
     "output_type": "execute_result"
    }
   ],
   "source": [
    "df.isnull().sum()"
   ]
  },
  {
   "cell_type": "code",
   "execution_count": 23,
   "id": "f8419031",
   "metadata": {},
   "outputs": [],
   "source": [
    "df['age'] = df['age'].fillna((df['age'].median()))\n",
    "df['TSH'] = df['TSH'].fillna((df['TSH'].median()))\n",
    "df['T3'] = df['T3'].fillna((df['T3'].median()))\n",
    "df['TT4'] = df['TT4'].fillna((df['TT4'].median()))\n",
    "df['T4U'] = df['T4U'].fillna((df['T4U'].median()))\n",
    "df['FTI'] = df['FTI'].fillna((df['FTI'].median()))"
   ]
  },
  {
   "cell_type": "code",
   "execution_count": 24,
   "id": "3afbd505",
   "metadata": {},
   "outputs": [
    {
     "data": {
      "text/plain": [
       "age                          0\n",
       "sex                          0\n",
       "on thyroxine                 0\n",
       "query on thyroxine           0\n",
       "on antithyroid medication    0\n",
       "sick                         0\n",
       "pregnant                     0\n",
       "thyroid surgery              0\n",
       "I131 treatment               0\n",
       "query hypothyroid            0\n",
       "query hyperthyroid           0\n",
       "lithium                      0\n",
       "goitre                       0\n",
       "tumor                        0\n",
       "hypopituitary                0\n",
       "psych                        0\n",
       "TSH measured                 0\n",
       "TSH                          0\n",
       "T3 measured                  0\n",
       "T3                           0\n",
       "TT4 measured                 0\n",
       "TT4                          0\n",
       "T4U measured                 0\n",
       "T4U                          0\n",
       "FTI measured                 0\n",
       "FTI                          0\n",
       "TBG measured                 0\n",
       "TBG                          0\n",
       "referral source              0\n",
       "binaryClass                  0\n",
       "dtype: int64"
      ]
     },
     "execution_count": 24,
     "metadata": {},
     "output_type": "execute_result"
    }
   ],
   "source": [
    "df.isnull().sum()"
   ]
  },
  {
   "cell_type": "code",
   "execution_count": 25,
   "id": "ae1d98ca",
   "metadata": {},
   "outputs": [
    {
     "data": {
      "text/plain": [
       "0    3622\n",
       "Name: TBG, dtype: int64"
      ]
     },
     "execution_count": 25,
     "metadata": {},
     "output_type": "execute_result"
    }
   ],
   "source": [
    "df['TBG'].value_counts()\n"
   ]
  },
  {
   "cell_type": "code",
   "execution_count": 26,
   "id": "1780c663",
   "metadata": {},
   "outputs": [
    {
     "data": {
      "text/plain": [
       "1"
      ]
     },
     "execution_count": 26,
     "metadata": {},
     "output_type": "execute_result"
    }
   ],
   "source": [
    "df['TBG'].value_counts().size"
   ]
  },
  {
   "cell_type": "markdown",
   "id": "d38678c8",
   "metadata": {},
   "source": [
    "### Détection des colonnes qui contiennent une seule valeurs"
   ]
  },
  {
   "cell_type": "code",
   "execution_count": 27,
   "id": "28feca72",
   "metadata": {},
   "outputs": [
    {
     "name": "stdout",
     "output_type": "stream",
     "text": [
      "TBG measured\n",
      "TBG\n"
     ]
    }
   ],
   "source": [
    "for col in df.columns:\n",
    "    if (df[col].value_counts().size == 1):\n",
    "        print(col)"
   ]
  },
  {
   "cell_type": "code",
   "execution_count": 28,
   "id": "39c96857",
   "metadata": {},
   "outputs": [
    {
     "data": {
      "text/plain": [
       "0    3622\n",
       "Name: TBG measured, dtype: int64"
      ]
     },
     "execution_count": 28,
     "metadata": {},
     "output_type": "execute_result"
    }
   ],
   "source": [
    "df['TBG measured'].value_counts()"
   ]
  },
  {
   "cell_type": "markdown",
   "id": "ffae4160",
   "metadata": {},
   "source": [
    "### suppression des colonnes "
   ]
  },
  {
   "cell_type": "code",
   "execution_count": 29,
   "id": "91ab7e2c",
   "metadata": {},
   "outputs": [
    {
     "name": "stdout",
     "output_type": "stream",
     "text": [
      "<class 'pandas.core.frame.DataFrame'>\n",
      "Int64Index: 3622 entries, 0 to 3771\n",
      "Data columns (total 28 columns):\n",
      " #   Column                     Non-Null Count  Dtype  \n",
      "---  ------                     --------------  -----  \n",
      " 0   age                        3622 non-null   float32\n",
      " 1   sex                        3622 non-null   int32  \n",
      " 2   on thyroxine               3622 non-null   int32  \n",
      " 3   query on thyroxine         3622 non-null   int32  \n",
      " 4   on antithyroid medication  3622 non-null   int32  \n",
      " 5   sick                       3622 non-null   int32  \n",
      " 6   pregnant                   3622 non-null   int32  \n",
      " 7   thyroid surgery            3622 non-null   int32  \n",
      " 8   I131 treatment             3622 non-null   int32  \n",
      " 9   query hypothyroid          3622 non-null   int32  \n",
      " 10  query hyperthyroid         3622 non-null   int32  \n",
      " 11  lithium                    3622 non-null   int32  \n",
      " 12  goitre                     3622 non-null   int32  \n",
      " 13  tumor                      3622 non-null   int32  \n",
      " 14  hypopituitary              3622 non-null   int32  \n",
      " 15  psych                      3622 non-null   int32  \n",
      " 16  TSH measured               3622 non-null   int32  \n",
      " 17  TSH                        3622 non-null   float32\n",
      " 18  T3 measured                3622 non-null   int32  \n",
      " 19  T3                         3622 non-null   float32\n",
      " 20  TT4 measured               3622 non-null   int32  \n",
      " 21  TT4                        3622 non-null   float32\n",
      " 22  T4U measured               3622 non-null   int32  \n",
      " 23  T4U                        3622 non-null   float32\n",
      " 24  FTI measured               3622 non-null   int32  \n",
      " 25  FTI                        3622 non-null   float32\n",
      " 26  referral source            3622 non-null   int32  \n",
      " 27  binaryClass                3622 non-null   int32  \n",
      "dtypes: float32(6), int32(22)\n",
      "memory usage: 553.5 KB\n"
     ]
    }
   ],
   "source": [
    "for col in df.columns:\n",
    "    if (df[col].value_counts().size == 1):\n",
    "        df.drop(col, axis = 1, inplace=True)\n",
    "df.info()"
   ]
  },
  {
   "cell_type": "markdown",
   "id": "1a14b7b8",
   "metadata": {},
   "source": [
    "###  <font color=#063970>10- Construction de X et y </font>"
   ]
  },
  {
   "cell_type": "code",
   "execution_count": 30,
   "id": "9841b070",
   "metadata": {},
   "outputs": [],
   "source": [
    "from sklearn.model_selection import train_test_split\n",
    "X = df.iloc[:,:-1]\n",
    "y = df.iloc[:,-1]\n",
    "X_train , X_test , y_train , y_test = train_test_split(X,y, random_state=0 , test_size=0.2)"
   ]
  },
  {
   "cell_type": "markdown",
   "id": "e44eda03",
   "metadata": {},
   "source": [
    "### Classification par  NAIVES BAYES GAUSSIEN"
   ]
  },
  {
   "cell_type": "code",
   "execution_count": 31,
   "id": "cadb5c40",
   "metadata": {},
   "outputs": [],
   "source": [
    "from  sklearn.naive_bayes import GaussianNB\n",
    "\n",
    "NBmodel = GaussianNB( )\n",
    "NBmodel.fit(X_train,y_train)\n",
    "y_pred = NBmodel.predict(X_test)"
   ]
  },
  {
   "cell_type": "markdown",
   "id": "b0870e27",
   "metadata": {},
   "source": [
    "### Evaluation"
   ]
  },
  {
   "cell_type": "code",
   "execution_count": 32,
   "id": "64be3480",
   "metadata": {},
   "outputs": [],
   "source": [
    "from sklearn.metrics import confusion_matrix,f1_score,accuracy_score,recall_score, classification_report"
   ]
  },
  {
   "cell_type": "code",
   "execution_count": 33,
   "id": "fd4d0a63",
   "metadata": {},
   "outputs": [],
   "source": [
    "cfm = confusion_matrix(y_test,y_pred)"
   ]
  },
  {
   "cell_type": "code",
   "execution_count": 34,
   "id": "a9f4b895",
   "metadata": {},
   "outputs": [
    {
     "data": {
      "text/plain": [
       "<AxesSubplot:>"
      ]
     },
     "execution_count": 34,
     "metadata": {},
     "output_type": "execute_result"
    },
    {
     "data": {
      "image/png": "[encoded data removed]",
      "text/plain": [
       "<Figure size 640x480 with 2 Axes>"
      ]
     },
     "metadata": {},
     "output_type": "display_data"
    }
   ],
   "source": [
    "sns.heatmap(cfm,annot=True,fmt=\"d\")"
   ]
  },
  {
   "cell_type": "code",
   "execution_count": 35,
   "id": "b73f5093",
   "metadata": {},
   "outputs": [
    {
     "data": {
      "text/plain": [
       "1    667\n",
       "0     58\n",
       "Name: binaryClass, dtype: int64"
      ]
     },
     "execution_count": 35,
     "metadata": {},
     "output_type": "execute_result"
    }
   ],
   "source": [
    "y_test.value_counts()"
   ]
  },
  {
   "cell_type": "code",
   "execution_count": 36,
   "id": "a6744bac",
   "metadata": {},
   "outputs": [
    {
     "name": "stdout",
     "output_type": "stream",
     "text": [
      "f1-score:  0.34285714285714286\n",
      "Accuracy:  0.27034482758620687\n"
     ]
    }
   ],
   "source": [
    "print(\"f1-score: \",f1_score(y_test,y_pred))\n",
    "print(\"Accuracy: \",accuracy_score(y_test,y_pred))"
   ]
  },
  {
   "cell_type": "markdown",
   "id": "a95b2082",
   "metadata": {},
   "source": [
    "##  <font color=#063970>Classification par Regression Logistique </font>"
   ]
  },
  {
   "cell_type": "code",
   "execution_count": 37,
   "id": "b90ff663",
   "metadata": {},
   "outputs": [],
   "source": [
    "from sklearn.linear_model import LogisticRegression\n",
    "lr= LogisticRegression()"
   ]
  },
  {
   "cell_type": "markdown",
   "id": "d84bd1fc",
   "metadata": {},
   "source": [
    "### Standarisation des données"
   ]
  },
  {
   "cell_type": "code",
   "execution_count": 38,
   "id": "68d1946c",
   "metadata": {},
   "outputs": [],
   "source": [
    "from sklearn.preprocessing import StandardScaler\n",
    "\n",
    "scaler = StandardScaler()\n",
    "X_train = scaler.fit_transform(X_train)\n",
    "X_test = scaler.transform(X_test)"
   ]
  },
  {
   "cell_type": "code",
   "execution_count": 41,
   "id": "9a59171a",
   "metadata": {},
   "outputs": [
    {
     "data": {
      "text/plain": [
       "LogisticRegression()"
      ]
     },
     "execution_count": 41,
     "metadata": {},
     "output_type": "execute_result"
    }
   ],
   "source": [
    "lr.fit(X_train , y_train)"
   ]
  },
  {
   "cell_type": "code",
   "execution_count": 42,
   "id": "4c61c956",
   "metadata": {},
   "outputs": [],
   "source": [
    "y_pred = lr.predict(X_test)"
   ]
  },
  {
   "cell_type": "code",
   "execution_count": 44,
   "id": "ce0e0602",
   "metadata": {},
   "outputs": [
    {
     "name": "stdout",
     "output_type": "stream",
     "text": [
      "f1-score:   0.9780058651026392\n"
     ]
    }
   ],
   "source": [
    "print(\"f1-score:  \", f1_score(y_test, y_pred))"
   ]
  },
  {
   "cell_type": "markdown",
   "id": "d66b424e",
   "metadata": {},
   "source": [
    "##  <font color=#063970>Classification par SVM </font>"
   ]
  },
  {
   "cell_type": "code",
   "execution_count": 39,
   "id": "23ac070a",
   "metadata": {},
   "outputs": [],
   "source": [
    "from sklearn.svm import SVC"
   ]
  },
  {
   "cell_type": "code",
   "execution_count": null,
   "id": "3a51b7f8",
   "metadata": {},
   "outputs": [],
   "source": []
  },
  {
   "cell_type": "code",
   "execution_count": null,
   "id": "19fc9fa9",
   "metadata": {},
   "outputs": [],
   "source": []
  },
  {
   "cell_type": "code",
   "execution_count": null,
   "id": "5054b0ec",
   "metadata": {},
   "outputs": [],
   "source": []
  }
 ],
 "metadata": {
  "kernelspec": {
   "display_name": "Python 3 (ipykernel)",
   "language": "python",
   "name": "python3"
  },
  "language_info": {
   "codemirror_mode": {
    "name": "ipython",
    "version": 3
   },
   "file_extension": ".py",
   "mimetype": "text/x-python",
   "name": "python",
   "nbconvert_exporter": "python",
   "pygments_lexer": "ipython3",
   "version": "3.9.13"
  }
 },
 "nbformat": 4,
 "nbformat_minor": 5
}
